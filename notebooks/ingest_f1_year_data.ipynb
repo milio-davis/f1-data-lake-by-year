{
 "cells": [
  {
   "cell_type": "code",
   "execution_count": 13,
   "id": "64b12a98",
   "metadata": {},
   "outputs": [],
   "source": [
    "year_data = 2025"
   ]
  },
  {
   "cell_type": "code",
   "execution_count": 14,
   "id": "72eb6a63",
   "metadata": {},
   "outputs": [],
   "source": [
    "import requests\n",
    "import boto3\n",
    "import pandas as pd\n",
    "from io import StringIO\n",
    "from dotenv import load_dotenv\n",
    "import os\n",
    "#import tabulate"
   ]
  },
  {
   "cell_type": "code",
   "execution_count": null,
   "id": "6aa43584",
   "metadata": {},
   "outputs": [],
   "source": [
    "load_dotenv()\n",
    "s3_bucket_f1 = os.getenv('S3_BUCKET_F1')"
   ]
  },
  {
   "cell_type": "code",
   "execution_count": null,
   "id": "c39f257a",
   "metadata": {},
   "outputs": [],
   "source": [
    "ergast_base_url = \"https://api.jolpi.ca/ergast/f1/\"\n",
    "# https://github.com/jolpica/jolpica-f1/blob/main/docs/README.md\n",
    "\n",
    "def get_drivers_df(year):\n",
    "    url = f\"{ergast_base_url}/{year}/drivers/\"\n",
    "    response = requests.get(url)\n",
    "    drivers_list = response.json()['MRData']['DriverTable']['Drivers']\n",
    "    return pd.json_normalize(drivers_list)\n",
    "\n",
    "def get_constructors_df(year):\n",
    "    url = f\"{ergast_base_url}/{year}/constructors/\"\n",
    "    response = requests.get(url)\n",
    "    constructors_list = response.json()['MRData']['ConstructorTable']['Constructors']\n",
    "    return pd.json_normalize(constructors_list)\n",
    "\n",
    "def get_calendar_df(year):\n",
    "    url = f\"{ergast_base_url}/{year}\"\n",
    "    response = requests.get(url)\n",
    "    races_list = response.json()['MRData']['RaceTable']['Races']\n",
    "    return pd.json_normalize(races_list)\n",
    "\n",
    "def get_races_results_df(year, year_races_calendar_df):\n",
    "    races_df = pd.DataFrame()\n",
    "    season_length = len(year_races_calendar_df.index)\n",
    "\n",
    "    for round_index in range(1,season_length+1):\n",
    "        url = f\"{ergast_base_url}/{year}/{round_index}/results\"\n",
    "        response = requests.get(url)\n",
    "        try:\n",
    "            race_result_df = pd.json_normalize(response.json()['MRData']['RaceTable']['Races'][0]['Results'])\n",
    "            races_df = pd.concat([races_df, race_result_df], ignore_index=True)\n",
    "        except:\n",
    "            break\n",
    "\n",
    "    races_df = races_df[['number','position','positionText','points','grid','laps','status','position','Driver.permanentNumber','Driver.code'\n",
    "        ,'Constructor.constructorId','Time.millis','Time.time','FastestLap.rank','FastestLap.lap','FastestLap.Time.time']]\n",
    "\n",
    "    return races_df\n",
    "\n",
    "def upload_to_s3(bucket, key, dataframe):\n",
    "    s3 = boto3.client('s3')\n",
    "    csv_buffer = StringIO()\n",
    "    dataframe.to_csv(csv_buffer, index=False)\n",
    "    s3.put_object(Bucket=bucket, Key=key, Body=csv_buffer.getvalue())\n"
   ]
  },
  {
   "cell_type": "code",
   "execution_count": null,
   "id": "14996b11",
   "metadata": {},
   "outputs": [],
   "source": [
    "if __name__ == \"__main__\":\n",
    "    year_drivers_df = get_drivers_df(year_data)\n",
    "    year_constructors_df = get_constructors_df(year_data)\n",
    "    year_races_calendar_df = get_calendar_df(year_data)\n",
    "    year_data_df = get_races_results_df(year_data, year_races_calendar_df)\n",
    "    #upload_to_s3(s3_bucket_f1, f\"raw/{year_data}/year_drivers_df.csv\", year_drivers_df)"
   ]
  },
  {
   "cell_type": "code",
   "execution_count": null,
   "id": "eb486865",
   "metadata": {},
   "outputs": [],
   "source": [
    "#print(year_drivers_df.to_markdown())\n",
    "#print(year_constructors_df.to_markdown())\n",
    "#print(year_races_calendar_df.to_markdown())"
   ]
  },
  {
   "cell_type": "code",
   "execution_count": null,
   "id": "fc6e3443",
   "metadata": {},
   "outputs": [],
   "source": [
    "#print(year_data_df.to_markdown())"
   ]
  }
 ],
 "metadata": {
  "kernelspec": {
   "display_name": "Python 3",
   "language": "python",
   "name": "python3"
  },
  "language_info": {
   "codemirror_mode": {
    "name": "ipython",
    "version": 3
   },
   "file_extension": ".py",
   "mimetype": "text/x-python",
   "name": "python",
   "nbconvert_exporter": "python",
   "pygments_lexer": "ipython3",
   "version": "3.13.3"
  }
 },
 "nbformat": 4,
 "nbformat_minor": 5
}
