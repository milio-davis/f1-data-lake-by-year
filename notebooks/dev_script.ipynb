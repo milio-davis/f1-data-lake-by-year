{
 "cells": [
  {
   "cell_type": "code",
   "execution_count": 167,
   "id": "64b12a98",
   "metadata": {},
   "outputs": [],
   "source": [
    "year_data = 2025"
   ]
  },
  {
   "cell_type": "code",
   "execution_count": 168,
   "id": "72eb6a63",
   "metadata": {},
   "outputs": [],
   "source": [
    "import requests\n",
    "import pandas as pd"
   ]
  },
  {
   "cell_type": "code",
   "execution_count": 169,
   "id": "30bee726",
   "metadata": {},
   "outputs": [],
   "source": [
    "ergast_base_url = \"https://api.jolpi.ca/ergast/f1/\"\n",
    "# https://github.com/jolpica/jolpica-f1/blob/main/docs/README.md"
   ]
  },
  {
   "cell_type": "code",
   "execution_count": 170,
   "id": "5f25bb28",
   "metadata": {},
   "outputs": [],
   "source": [
    "def get_drivers_df(year):\n",
    "    url = f\"{ergast_base_url}/{year}/drivers/\"\n",
    "    response = requests.get(url)\n",
    "    \n",
    "    drivers_list = response.json()['MRData']['DriverTable']['Drivers']\n",
    "    drivers_df = pd.json_normalize(drivers_list)\n",
    "    \n",
    "    # Rename columns\n",
    "    drivers_df = drivers_df.rename(columns={'driverId': 'driver_id', 'permanentNumber': 'permanent_number', 'givenName': 'given_name'\n",
    "        , 'familyName': 'family_name', 'dateOfBirth': 'birth_day'})\n",
    "    \n",
    "    # Assign types\n",
    "    drivers_df = drivers_df.astype({'permanent_number': int, 'birth_day': 'datetime64[ns]'})\n",
    "    \n",
    "    return drivers_df"
   ]
  },
  {
   "cell_type": "code",
   "execution_count": 171,
   "id": "14675095",
   "metadata": {},
   "outputs": [],
   "source": [
    "def get_constructors_df(year):\n",
    "    url = f\"{ergast_base_url}/{year}/constructors/\"\n",
    "    response = requests.get(url)\n",
    "    \n",
    "    constructors_list = response.json()['MRData']['ConstructorTable']['Constructors']\n",
    "    constructors_df = pd.json_normalize(constructors_list)\n",
    "    \n",
    "    # Rename columns\n",
    "    constructors_df = constructors_df.rename(columns={'constructorId': 'constructor_id'})\n",
    "    \n",
    "    return constructors_df"
   ]
  },
  {
   "cell_type": "code",
   "execution_count": 172,
   "id": "e38ee869",
   "metadata": {},
   "outputs": [],
   "source": [
    "def get_races_calendar_df(year):\n",
    "    url = f\"{ergast_base_url}/{year}\"\n",
    "    response = requests.get(url)\n",
    "    \n",
    "    races_list = response.json()['MRData']['RaceTable']['Races']    \n",
    "    races_df = pd.json_normalize(races_list)\n",
    "    \n",
    "    # Drop unnecessary columns\n",
    "    races_df.drop(['FirstPractice.time', 'SecondPractice.time', 'ThirdPractice.time'], axis=1, inplace=True)\n",
    "    \n",
    "    # Rename columns\n",
    "    races_df = races_df.rename(columns={'raceName': 'race_name', 'url': 'url_grand_prix'\n",
    "        , 'Circuit.circuitId': 'circuit_id', 'Circuit.url': 'url_circuit'\n",
    "        , 'Circuit.circuitName': 'name', 'Circuit.Location.lat': 'location_lat', 'Circuit.Location.long': 'location_long'\n",
    "        , 'Circuit.Location.locality': 'location_locality', 'Circuit.Location.country': 'country'\n",
    "        , 'FirstPractice.date': 'practice1_date', 'SecondPractice.date': 'practice2_date', 'ThirdPractice.date': 'practice3_date'\n",
    "        , 'Qualifying.date': 'qualifying_date', 'Qualifying.time': 'qualifying_time'\n",
    "        , 'Sprint.date': 'sprint_date', 'Sprint.time': 'sprint_time'\n",
    "        , 'SprintQualifying.date': 'sprint_qualy_date', 'SprintQualifying.time': 'sprint_qualy_time'})\n",
    "    \n",
    "    # Assign types\n",
    "    races_df = races_df.astype({'season': int, 'round': int, 'date': 'datetime64[ns]', 'location_lat': float, 'location_long': float\n",
    "        , 'practice1_date': 'datetime64[ns]', 'practice2_date': 'datetime64[ns]', 'practice3_date': 'datetime64[ms]'\n",
    "        , 'qualifying_date': 'datetime64[ns]', 'sprint_date': 'datetime64[ns]', 'sprint_qualy_date': 'datetime64[ns]'})\n",
    "    \n",
    "    return races_df"
   ]
  },
  {
   "cell_type": "code",
   "execution_count": 173,
   "id": "c39f257a",
   "metadata": {},
   "outputs": [],
   "source": [
    "def get_races_results_df(year, year_races_calendar_df):\n",
    "    # Start season races pd df\n",
    "    races_df = pd.DataFrame()\n",
    "\n",
    "    # Get season length\n",
    "    season_length = len(year_races_calendar_df.index)\n",
    "\n",
    "    # For each race\n",
    "    for round_index in range(1,season_length+1):\n",
    "        try:\n",
    "            url = f\"{ergast_base_url}/{year}/{round_index}/results\"\n",
    "            response = requests.get(url)\n",
    "            \n",
    "            # Get race result into a pd df\n",
    "            race_result_df = pd.json_normalize(response.json()['MRData']['RaceTable']['Races'][0]['Results'])\n",
    "            \n",
    "            # Add circuit id, season year, round id\n",
    "            race_row = year_races_calendar_df.loc[year_races_calendar_df['round'].astype(int) == round_index]\n",
    "\n",
    "            race_result_df['raceRoundId'] = race_row['round']\n",
    "            race_result_df['seasonYear'], race_result_df['circuitId'] = race_row['season'], race_row['circuit_id']\n",
    "\n",
    "            # Add race result df to season races df\n",
    "            races_df = pd.concat([races_df, race_result_df], ignore_index=True)\n",
    "        except:\n",
    "            # If no more races\n",
    "            break \n",
    "    \n",
    "    # Keep these columns \n",
    "    races_df = races_df[['number','position','positionText','points','grid','laps','status','Driver.permanentNumber','Driver.code'\n",
    "        ,'Constructor.constructorId','Time.millis','Time.time','FastestLap.rank','FastestLap.lap','FastestLap.Time.time'\n",
    "        ,'raceRoundId','seasonYear','circuitId']]\n",
    "    \n",
    "    # Rename columns\n",
    "    races_df = races_df.rename(columns={'number': 'driver_number', 'positionText': 'position_text'\n",
    "        , 'Driver.permanentNumber': 'driver_permanent_number', 'Driver.code': 'driver_code'\n",
    "        , 'Constructor.constructorId': 'constructor_id', 'Time.millis': 'time_millis', 'Time.time': 'time_interval'\n",
    "        , 'FastestLap.rank': 'fastest_lap_rank', 'FastestLap.lap': 'fastest_lap_lap', 'FastestLap.Time.time': 'fastest_lap_time'\n",
    "        , 'raceRoundId': 'race_round_id', 'seasonYear': 'season', 'circuitId': 'race_circuit_id'})\n",
    "    \n",
    "    # Fill NaN\n",
    "    races_df.fillna({'fastest_lap_rank': 0, 'fastest_lap_lap': 0, 'season': 0, 'race_round_id': 0}, inplace=True)\n",
    "    \n",
    "    # Assign types\n",
    "    races_df = races_df.astype({'driver_number': int, 'position': int, 'points': int, 'grid': int, 'laps': int\n",
    "        , 'driver_permanent_number': int, 'time_millis': float, 'fastest_lap_rank': int, 'fastest_lap_lap': int\n",
    "        , 'race_round_id': int, 'season': int})\n",
    "    \n",
    "    return races_df"
   ]
  },
  {
   "cell_type": "code",
   "execution_count": 174,
   "id": "14996b11",
   "metadata": {},
   "outputs": [],
   "source": [
    "if __name__ == \"__main__\":\n",
    "    year_drivers_df = get_drivers_df(year_data)\n",
    "    year_constructors_df = get_constructors_df(year_data)\n",
    "    year_races_calendar_df = get_races_calendar_df(year_data)\n",
    "    #year_data_df = get_races_results_df(year_data, year_races_calendar_df)"
   ]
  },
  {
   "cell_type": "code",
   "execution_count": 175,
   "id": "922cff89",
   "metadata": {},
   "outputs": [],
   "source": [
    "#year_data_df.info()"
   ]
  },
  {
   "cell_type": "code",
   "execution_count": null,
   "id": "eb486865",
   "metadata": {},
   "outputs": [
    {
     "name": "stdout",
     "output_type": "stream",
     "text": [
      "|    |   season |   round | url_grand_prix                                               | race_name                 | date                | time      | circuit_id    | url_circuit                                                          | name                           |   location_lat |   location_long | location_locality   | country      | practice1_date      | practice2_date      | practice3_date      | qualifying_date     | qualifying_time   | sprint_date         | sprint_time   | sprint_qualy_date   | sprint_qualy_time   |\n",
      "|---:|---------:|--------:|:-------------------------------------------------------------|:--------------------------|:--------------------|:----------|:--------------|:---------------------------------------------------------------------|:-------------------------------|---------------:|----------------:|:--------------------|:-------------|:--------------------|:--------------------|:--------------------|:--------------------|:------------------|:--------------------|:--------------|:--------------------|:--------------------|\n",
      "|  0 |     2025 |       1 | https://en.wikipedia.org/wiki/2025_Australian_Grand_Prix     | Australian Grand Prix     | 2025-03-16 00:00:00 | 04:00:00Z | albert_park   | https://en.wikipedia.org/wiki/Albert_Park_Circuit                    | Albert Park Grand Prix Circuit |       -37.8497 |       144.968   | Melbourne           | Australia    | 2025-03-14 00:00:00 | 2025-03-14 00:00:00 | 2025-03-15 00:00:00 | 2025-03-15 00:00:00 | 05:00:00Z         | NaT                 | nan           | NaT                 | nan                 |\n",
      "|  1 |     2025 |       2 | https://en.wikipedia.org/wiki/2025_Chinese_Grand_Prix        | Chinese Grand Prix        | 2025-03-23 00:00:00 | 07:00:00Z | shanghai      | https://en.wikipedia.org/wiki/Shanghai_International_Circuit         | Shanghai International Circuit |        31.3389 |       121.22    | Shanghai            | China        | 2025-03-21 00:00:00 | NaT                 | NaT                 | 2025-03-22 00:00:00 | 07:00:00Z         | 2025-03-22 00:00:00 | 03:00:00Z     | 2025-03-21 00:00:00 | 07:30:00Z           |\n",
      "|  2 |     2025 |       3 | https://en.wikipedia.org/wiki/2025_Japanese_Grand_Prix       | Japanese Grand Prix       | 2025-04-06 00:00:00 | 05:00:00Z | suzuka        | https://en.wikipedia.org/wiki/Suzuka_International_Racing_Course     | Suzuka Circuit                 |        34.8431 |       136.541   | Suzuka              | Japan        | 2025-04-04 00:00:00 | 2025-04-04 00:00:00 | 2025-04-05 00:00:00 | 2025-04-05 00:00:00 | 06:00:00Z         | NaT                 | nan           | NaT                 | nan                 |\n",
      "|  3 |     2025 |       4 | https://en.wikipedia.org/wiki/2025_Bahrain_Grand_Prix        | Bahrain Grand Prix        | 2025-04-13 00:00:00 | 15:00:00Z | bahrain       | https://en.wikipedia.org/wiki/Bahrain_International_Circuit          | Bahrain International Circuit  |        26.0325 |        50.5106  | Sakhir              | Bahrain      | 2025-04-11 00:00:00 | 2025-04-11 00:00:00 | 2025-04-12 00:00:00 | 2025-04-12 00:00:00 | 16:00:00Z         | NaT                 | nan           | NaT                 | nan                 |\n",
      "|  4 |     2025 |       5 | https://en.wikipedia.org/wiki/2025_Saudi_Arabian_Grand_Prix  | Saudi Arabian Grand Prix  | 2025-04-20 00:00:00 | 17:00:00Z | jeddah        | https://en.wikipedia.org/wiki/Jeddah_Corniche_Circuit                | Jeddah Corniche Circuit        |        21.6319 |        39.1044  | Jeddah              | Saudi Arabia | 2025-04-18 00:00:00 | 2025-04-18 00:00:00 | 2025-04-19 00:00:00 | 2025-04-19 00:00:00 | 17:00:00Z         | NaT                 | nan           | NaT                 | nan                 |\n",
      "|  5 |     2025 |       6 | https://en.wikipedia.org/wiki/2025_Miami_Grand_Prix          | Miami Grand Prix          | 2025-05-04 00:00:00 | 20:00:00Z | miami         | https://en.wikipedia.org/wiki/Miami_International_Autodrome          | Miami International Autodrome  |        25.9581 |       -80.2389  | Miami               | USA          | 2025-05-02 00:00:00 | NaT                 | NaT                 | 2025-05-03 00:00:00 | 20:00:00Z         | 2025-05-03 00:00:00 | 16:00:00Z     | 2025-05-02 00:00:00 | 20:30:00Z           |\n",
      "|  6 |     2025 |       7 | https://en.wikipedia.org/wiki/2025_Emilia_Romagna_Grand_Prix | Emilia Romagna Grand Prix | 2025-05-18 00:00:00 | 13:00:00Z | imola         | https://en.wikipedia.org/wiki/Imola_Circuit                          | Autodromo Enzo e Dino Ferrari  |        44.3439 |        11.7167  | Imola               | Italy        | 2025-05-16 00:00:00 | 2025-05-16 00:00:00 | 2025-05-17 00:00:00 | 2025-05-17 00:00:00 | 14:00:00Z         | NaT                 | nan           | NaT                 | nan                 |\n",
      "|  7 |     2025 |       8 | https://en.wikipedia.org/wiki/2025_Monaco_Grand_Prix         | Monaco Grand Prix         | 2025-05-25 00:00:00 | 13:00:00Z | monaco        | https://en.wikipedia.org/wiki/Circuit_de_Monaco                      | Circuit de Monaco              |        43.7347 |         7.42056 | Monte-Carlo         | Monaco       | 2025-05-23 00:00:00 | 2025-05-23 00:00:00 | 2025-05-24 00:00:00 | 2025-05-24 00:00:00 | 14:00:00Z         | NaT                 | nan           | NaT                 | nan                 |\n",
      "|  8 |     2025 |       9 | https://en.wikipedia.org/wiki/2025_Spanish_Grand_Prix        | Spanish Grand Prix        | 2025-06-01 00:00:00 | 13:00:00Z | catalunya     | https://en.wikipedia.org/wiki/Circuit_de_Barcelona-Catalunya         | Circuit de Barcelona-Catalunya |        41.57   |         2.26111 | Montmeló            | Spain        | 2025-05-30 00:00:00 | 2025-05-30 00:00:00 | 2025-05-31 00:00:00 | 2025-05-31 00:00:00 | 14:00:00Z         | NaT                 | nan           | NaT                 | nan                 |\n",
      "|  9 |     2025 |      10 | https://en.wikipedia.org/wiki/2025_Canadian_Grand_Prix       | Canadian Grand Prix       | 2025-06-15 00:00:00 | 18:00:00Z | villeneuve    | https://en.wikipedia.org/wiki/Circuit_Gilles_Villeneuve              | Circuit Gilles Villeneuve      |        45.5    |       -73.5228  | Montreal            | Canada       | 2025-06-13 00:00:00 | 2025-06-13 00:00:00 | 2025-06-14 00:00:00 | 2025-06-14 00:00:00 | 20:00:00Z         | NaT                 | nan           | NaT                 | nan                 |\n",
      "| 10 |     2025 |      11 | https://en.wikipedia.org/wiki/2025_Austrian_Grand_Prix       | Austrian Grand Prix       | 2025-06-29 00:00:00 | 13:00:00Z | red_bull_ring | https://en.wikipedia.org/wiki/Red_Bull_Ring                          | Red Bull Ring                  |        47.2197 |        14.7647  | Spielberg           | Austria      | 2025-06-27 00:00:00 | 2025-06-27 00:00:00 | 2025-06-28 00:00:00 | 2025-06-28 00:00:00 | 14:00:00Z         | NaT                 | nan           | NaT                 | nan                 |\n",
      "| 11 |     2025 |      12 | https://en.wikipedia.org/wiki/2025_British_Grand_Prix        | British Grand Prix        | 2025-07-06 00:00:00 | 14:00:00Z | silverstone   | https://en.wikipedia.org/wiki/Silverstone_Circuit                    | Silverstone Circuit            |        52.0786 |        -1.01694 | Silverstone         | UK           | 2025-07-04 00:00:00 | 2025-07-04 00:00:00 | 2025-07-05 00:00:00 | 2025-07-05 00:00:00 | 14:00:00Z         | NaT                 | nan           | NaT                 | nan                 |\n",
      "| 12 |     2025 |      13 | https://en.wikipedia.org/wiki/2025_Belgian_Grand_Prix        | Belgian Grand Prix        | 2025-07-27 00:00:00 | 13:00:00Z | spa           | https://en.wikipedia.org/wiki/Circuit_de_Spa-Francorchamps           | Circuit de Spa-Francorchamps   |        50.4372 |         5.97139 | Spa                 | Belgium      | 2025-07-25 00:00:00 | NaT                 | NaT                 | 2025-07-26 00:00:00 | 14:00:00Z         | 2025-07-26 00:00:00 | 10:00:00Z     | 2025-07-25 00:00:00 | 14:30:00Z           |\n",
      "| 13 |     2025 |      14 | https://en.wikipedia.org/wiki/2025_Hungarian_Grand_Prix      | Hungarian Grand Prix      | 2025-08-03 00:00:00 | 13:00:00Z | hungaroring   | https://en.wikipedia.org/wiki/Hungaroring                            | Hungaroring                    |        47.5789 |        19.2486  | Budapest            | Hungary      | 2025-08-01 00:00:00 | 2025-08-01 00:00:00 | 2025-08-02 00:00:00 | 2025-08-02 00:00:00 | 14:00:00Z         | NaT                 | nan           | NaT                 | nan                 |\n",
      "| 14 |     2025 |      15 | https://en.wikipedia.org/wiki/2025_Dutch_Grand_Prix          | Dutch Grand Prix          | 2025-08-31 00:00:00 | 13:00:00Z | zandvoort     | https://en.wikipedia.org/wiki/Circuit_Zandvoort                      | Circuit Park Zandvoort         |        52.3888 |         4.54092 | Zandvoort           | Netherlands  | 2025-08-29 00:00:00 | 2025-08-29 00:00:00 | 2025-08-30 00:00:00 | 2025-08-30 00:00:00 | 13:00:00Z         | NaT                 | nan           | NaT                 | nan                 |\n",
      "| 15 |     2025 |      16 | https://en.wikipedia.org/wiki/2025_Italian_Grand_Prix        | Italian Grand Prix        | 2025-09-07 00:00:00 | 13:00:00Z | monza         | https://en.wikipedia.org/wiki/Monza_Circuit                          | Autodromo Nazionale di Monza   |        45.6156 |         9.28111 | Monza               | Italy        | 2025-09-05 00:00:00 | 2025-09-05 00:00:00 | 2025-09-06 00:00:00 | 2025-09-06 00:00:00 | 14:00:00Z         | NaT                 | nan           | NaT                 | nan                 |\n",
      "| 16 |     2025 |      17 | https://en.wikipedia.org/wiki/2025_Azerbaijan_Grand_Prix     | Azerbaijan Grand Prix     | 2025-09-21 00:00:00 | 11:00:00Z | baku          | https://en.wikipedia.org/wiki/Baku_City_Circuit                      | Baku City Circuit              |        40.3725 |        49.8533  | Baku                | Azerbaijan   | 2025-09-19 00:00:00 | 2025-09-19 00:00:00 | 2025-09-20 00:00:00 | 2025-09-20 00:00:00 | 12:00:00Z         | NaT                 | nan           | NaT                 | nan                 |\n",
      "| 17 |     2025 |      18 | https://en.wikipedia.org/wiki/2025_Singapore_Grand_Prix      | Singapore Grand Prix      | 2025-10-05 00:00:00 | 12:00:00Z | marina_bay    | https://en.wikipedia.org/wiki/Marina_Bay_Street_Circuit              | Marina Bay Street Circuit      |         1.2914 |       103.864   | Marina Bay          | Singapore    | 2025-10-03 00:00:00 | 2025-10-03 00:00:00 | 2025-10-04 00:00:00 | 2025-10-04 00:00:00 | 13:00:00Z         | NaT                 | nan           | NaT                 | nan                 |\n",
      "| 18 |     2025 |      19 | https://en.wikipedia.org/wiki/2025_United_States_Grand_Prix  | United States Grand Prix  | 2025-10-19 00:00:00 | 19:00:00Z | americas      | https://en.wikipedia.org/wiki/Circuit_of_the_Americas                | Circuit of the Americas        |        30.1328 |       -97.6411  | Austin              | USA          | 2025-10-17 00:00:00 | NaT                 | NaT                 | 2025-10-18 00:00:00 | 21:00:00Z         | 2025-10-18 00:00:00 | 17:00:00Z     | 2025-10-17 00:00:00 | 21:30:00Z           |\n",
      "| 19 |     2025 |      20 | https://en.wikipedia.org/wiki/2025_Mexico_City_Grand_Prix    | Mexico City Grand Prix    | 2025-10-26 00:00:00 | 20:00:00Z | rodriguez     | https://en.wikipedia.org/wiki/Aut%C3%B3dromo_Hermanos_Rodr%C3%ADguez | Autódromo Hermanos Rodríguez   |        19.4042 |       -99.0907  | Mexico City         | Mexico       | 2025-10-24 00:00:00 | 2025-10-24 00:00:00 | 2025-10-25 00:00:00 | 2025-10-25 00:00:00 | 21:00:00Z         | NaT                 | nan           | NaT                 | nan                 |\n",
      "| 20 |     2025 |      21 | https://en.wikipedia.org/wiki/2025_S%C3%A3o_Paulo_Grand_Prix | São Paulo Grand Prix      | 2025-11-09 00:00:00 | 17:00:00Z | interlagos    | https://en.wikipedia.org/wiki/Interlagos_Circuit                     | Autódromo José Carlos Pace     |       -23.7036 |       -46.6997  | São Paulo           | Brazil       | 2025-11-07 00:00:00 | NaT                 | NaT                 | 2025-11-08 00:00:00 | 18:00:00Z         | 2025-11-08 00:00:00 | 14:00:00Z     | 2025-11-07 00:00:00 | 18:30:00Z           |\n",
      "| 21 |     2025 |      22 | https://en.wikipedia.org/wiki/2025_Las_Vegas_Grand_Prix      | Las Vegas Grand Prix      | 2025-11-23 00:00:00 | 04:00:00Z | vegas         | https://en.wikipedia.org/wiki/Las_Vegas_Grand_Prix#Circuit           | Las Vegas Strip Street Circuit |        36.1147 |      -115.173   | Las Vegas           | USA          | 2025-11-21 00:00:00 | 2025-11-21 00:00:00 | 2025-11-22 00:00:00 | 2025-11-22 00:00:00 | 04:00:00Z         | NaT                 | nan           | NaT                 | nan                 |\n",
      "| 22 |     2025 |      23 | https://en.wikipedia.org/wiki/2025_Qatar_Grand_Prix          | Qatar Grand Prix          | 2025-11-30 00:00:00 | 16:00:00Z | losail        | https://en.wikipedia.org/wiki/Lusail_International_Circuit           | Losail International Circuit   |        25.49   |        51.4542  | Al Daayen           | Qatar        | 2025-11-28 00:00:00 | NaT                 | NaT                 | 2025-11-29 00:00:00 | 18:00:00Z         | 2025-11-29 00:00:00 | 14:00:00Z     | 2025-11-28 00:00:00 | 17:30:00Z           |\n",
      "| 23 |     2025 |      24 | https://en.wikipedia.org/wiki/2025_Abu_Dhabi_Grand_Prix      | Abu Dhabi Grand Prix      | 2025-12-07 00:00:00 | 13:00:00Z | yas_marina    | https://en.wikipedia.org/wiki/Yas_Marina_Circuit                     | Yas Marina Circuit             |        24.4672 |        54.6031  | Abu Dhabi           | UAE          | 2025-12-05 00:00:00 | 2025-12-05 00:00:00 | 2025-12-06 00:00:00 | 2025-12-06 00:00:00 | 14:00:00Z         | NaT                 | nan           | NaT                 | nan                 |\n"
     ]
    }
   ],
   "source": [
    "#print(year_drivers_df.to_markdown())\n",
    "#print(year_constructors_df.to_markdown())\n",
    "#print(year_races_calendar_df.to_markdown())"
   ]
  },
  {
   "cell_type": "code",
   "execution_count": 177,
   "id": "fc6e3443",
   "metadata": {},
   "outputs": [],
   "source": [
    "#print(year_data_df.to_markdown())"
   ]
  }
 ],
 "metadata": {
  "kernelspec": {
   "display_name": "Python 3",
   "language": "python",
   "name": "python3"
  },
  "language_info": {
   "codemirror_mode": {
    "name": "ipython",
    "version": 3
   },
   "file_extension": ".py",
   "mimetype": "text/x-python",
   "name": "python",
   "nbconvert_exporter": "python",
   "pygments_lexer": "ipython3",
   "version": "3.12.3"
  }
 },
 "nbformat": 4,
 "nbformat_minor": 5
}
