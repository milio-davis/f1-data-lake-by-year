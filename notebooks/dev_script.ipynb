{
 "cells": [
  {
   "cell_type": "code",
   "execution_count": 194,
   "id": "64b12a98",
   "metadata": {},
   "outputs": [],
   "source": [
    "year_data = 2025"
   ]
  },
  {
   "cell_type": "code",
   "execution_count": 195,
   "id": "72eb6a63",
   "metadata": {},
   "outputs": [],
   "source": [
    "import requests\n",
    "import pandas as pd"
   ]
  },
  {
   "cell_type": "code",
   "execution_count": null,
   "id": "30bee726",
   "metadata": {},
   "outputs": [],
   "source": [
    "ergast_base_url = \"https://api.jolpi.ca/ergast/f1/\"\n",
    "# https://github.com/jolpica/jolpica-f1/blob/main/docs/README.md"
   ]
  },
  {
   "cell_type": "code",
   "execution_count": null,
   "id": "5f25bb28",
   "metadata": {},
   "outputs": [],
   "source": [
    "def get_drivers_df(year):\n",
    "    url = f\"{ergast_base_url}/{year}/drivers/\"\n",
    "    response = requests.get(url)\n",
    "    drivers_list = response.json()['MRData']['DriverTable']['Drivers']\n",
    "    return pd.json_normalize(drivers_list)"
   ]
  },
  {
   "cell_type": "code",
   "execution_count": null,
   "id": "14675095",
   "metadata": {},
   "outputs": [],
   "source": [
    "def get_constructors_df(year):\n",
    "    url = f\"{ergast_base_url}/{year}/constructors/\"\n",
    "    response = requests.get(url)\n",
    "    constructors_list = response.json()['MRData']['ConstructorTable']['Constructors']\n",
    "    return pd.json_normalize(constructors_list)"
   ]
  },
  {
   "cell_type": "code",
   "execution_count": null,
   "id": "e38ee869",
   "metadata": {},
   "outputs": [],
   "source": [
    "def get_races_calendar_df(year):\n",
    "    url = f\"{ergast_base_url}/{year}\"\n",
    "    response = requests.get(url)\n",
    "    races_list = response.json()['MRData']['RaceTable']['Races']\n",
    "    return pd.json_normalize(races_list)"
   ]
  },
  {
   "cell_type": "code",
   "execution_count": null,
   "id": "c39f257a",
   "metadata": {},
   "outputs": [],
   "source": [
    "def get_races_results_df(year, year_races_calendar_df):\n",
    "    # Start season races pd df\n",
    "    races_df = pd.DataFrame()\n",
    "\n",
    "    # Get season length\n",
    "    season_length = len(year_races_calendar_df.index)\n",
    "\n",
    "    # For each race\n",
    "    for round_index in range(1,season_length+1):\n",
    "        try:\n",
    "            url = f\"{ergast_base_url}/{year}/{round_index}/results\"\n",
    "            response = requests.get(url)\n",
    "\n",
    "            # Get race result into a pd df\n",
    "            race_result_df = pd.json_normalize(response.json()['MRData']['RaceTable']['Races'][0]['Results'])\n",
    "\n",
    "            # Add circuit id, season year, round id\n",
    "            race_row = year_races_calendar_df.loc[year_races_calendar_df['round'].astype(int) == round_index]\n",
    "            race_row = race_row.to_dict(orient='records')[0]\n",
    "\n",
    "            race_result_df['raceRoundId'] = race_row['round']\n",
    "            race_result_df['seasonYear'], race_result_df['circuitId'] = race_row['season'], race_row['Circuit.circuitId']\n",
    "\n",
    "            # Add race result df to season races df\n",
    "            races_df = pd.concat([races_df, race_result_df], ignore_index=True)\n",
    "        except:\n",
    "            # If no more races\n",
    "            break \n",
    "\n",
    "    # Keep these columns \n",
    "    races_df = races_df[['number','position','positionText','points','grid','laps','status','position','Driver.permanentNumber','Driver.code'\n",
    "        ,'Constructor.constructorId','Time.millis','Time.time','FastestLap.rank','FastestLap.lap','FastestLap.Time.time','raceRoundId','seasonYear','circuitId']]\n",
    "    \n",
    "    return races_df"
   ]
  },
  {
   "cell_type": "code",
   "execution_count": null,
   "id": "14996b11",
   "metadata": {},
   "outputs": [],
   "source": [
    "if __name__ == \"__main__\":\n",
    "    year_drivers_df = get_drivers_df(year_data)\n",
    "    year_constructors_df = get_constructors_df(year_data)\n",
    "    year_races_calendar_df = get_races_calendar_df(year_data)\n",
    "    year_data_df = get_races_results_df(year_data, year_races_calendar_df)"
   ]
  },
  {
   "cell_type": "code",
   "execution_count": null,
   "id": "eb486865",
   "metadata": {},
   "outputs": [],
   "source": [
    "#print(year_drivers_df.to_markdown())\n",
    "#print(year_constructors_df.to_markdown())\n",
    "#print(year_races_calendar_df.to_markdown())"
   ]
  },
  {
   "cell_type": "code",
   "execution_count": 199,
   "id": "fc6e3443",
   "metadata": {},
   "outputs": [],
   "source": [
    "#print(year_data_df.to_markdown())"
   ]
  }
 ],
 "metadata": {
  "kernelspec": {
   "display_name": "Python 3",
   "language": "python",
   "name": "python3"
  },
  "language_info": {
   "codemirror_mode": {
    "name": "ipython",
    "version": 3
   },
   "file_extension": ".py",
   "mimetype": "text/x-python",
   "name": "python",
   "nbconvert_exporter": "python",
   "pygments_lexer": "ipython3",
   "version": "3.13.3"
  }
 },
 "nbformat": 4,
 "nbformat_minor": 5
}
